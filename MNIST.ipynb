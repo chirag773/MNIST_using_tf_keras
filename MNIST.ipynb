{
  "nbformat": 4,
  "nbformat_minor": 0,
  "metadata": {
    "colab": {
      "name": "MNIST.ipynb",
      "version": "0.3.2",
      "provenance": [],
      "collapsed_sections": [],
      "include_colab_link": true
    },
    "kernelspec": {
      "name": "python3",
      "display_name": "Python 3"
    },
    "accelerator": "GPU"
  },
  "cells": [
    {
      "cell_type": "markdown",
      "metadata": {
        "id": "view-in-github",
        "colab_type": "text"
      },
      "source": [
        "<a href=\"https://colab.research.google.com/github/chirag773/machineLearning_tf/blob/master/MNIST.ipynb\" target=\"_parent\"><img src=\"https://colab.research.google.com/assets/colab-badge.svg\" alt=\"Open In Colab\"/></a>"
      ]
    },
    {
      "metadata": {
        "id": "xj-GJ_XyiPAR",
        "colab_type": "code",
        "outputId": "6be67da5-51b0-437c-e809-d2bfdd6c8615",
        "colab": {
          "base_uri": "https://localhost:8080/",
          "height": 374
        }
      },
      "cell_type": "code",
      "source": [
        "import tensorflow as tf\n",
        "\n",
        "mnist = tf.keras.datasets.mnist\n",
        "\n",
        "(x_train, y_train), (x_test, y_test) = mnist.load_data()\n",
        "\n",
        "x_train = tf.keras.utils.normalize(x_train, axis=0)\n",
        "x_test = tf.keras.utils.normalize(x_test, axis=0)\n",
        "\n",
        "model = tf.keras.models.Sequential()\n",
        "model.add(tf.keras.layers.Flatten())\n",
        "model.add(tf.keras.layers.Dense(128, activation=tf.nn.relu))\n",
        "model.add(tf.keras.layers.Dense(128, activation=tf.nn.relu))\n",
        "model.add(tf.keras.layers.Dense(10, activation=tf.nn.softmax))\n",
        "\n",
        "model.compile(optimizer='adam',\n",
        "             loss='sparse_categorical_crossentropy',\n",
        "             metrics=['accuracy'])\n",
        "model.fit(x_train, y_train, epochs=10)"
      ],
      "execution_count": 0,
      "outputs": [
        {
          "output_type": "stream",
          "text": [
            "Epoch 1/10\n",
            "60000/60000 [==============================] - 9s 151us/sample - loss: 0.5616 - acc: 0.8377\n",
            "Epoch 2/10\n",
            "60000/60000 [==============================] - 9s 148us/sample - loss: 0.2738 - acc: 0.9202\n",
            "Epoch 3/10\n",
            "60000/60000 [==============================] - 9s 149us/sample - loss: 0.2135 - acc: 0.9375\n",
            "Epoch 4/10\n",
            "60000/60000 [==============================] - 9s 151us/sample - loss: 0.1707 - acc: 0.9489\n",
            "Epoch 5/10\n",
            "60000/60000 [==============================] - 9s 153us/sample - loss: 0.1403 - acc: 0.9578\n",
            "Epoch 6/10\n",
            "60000/60000 [==============================] - 9s 152us/sample - loss: 0.1174 - acc: 0.9640\n",
            "Epoch 7/10\n",
            "60000/60000 [==============================] - 9s 149us/sample - loss: 0.0995 - acc: 0.9702\n",
            "Epoch 8/10\n",
            "60000/60000 [==============================] - 9s 150us/sample - loss: 0.0862 - acc: 0.9738\n",
            "Epoch 9/10\n",
            "60000/60000 [==============================] - 9s 150us/sample - loss: 0.0745 - acc: 0.9768\n",
            "Epoch 10/10\n",
            "60000/60000 [==============================] - 9s 150us/sample - loss: 0.0648 - acc: 0.9804\n"
          ],
          "name": "stdout"
        },
        {
          "output_type": "execute_result",
          "data": {
            "text/plain": [
              "<tensorflow.python.keras.callbacks.History at 0x7fb0bb909208>"
            ]
          },
          "metadata": {
            "tags": []
          },
          "execution_count": 8
        }
      ]
    },
    {
      "metadata": {
        "id": "i_pCeITtisuG",
        "colab_type": "code",
        "outputId": "2d6ee660-2fbd-4cd1-8932-a8e9be3686a9",
        "colab": {
          "base_uri": "https://localhost:8080/",
          "height": 364
        }
      },
      "cell_type": "code",
      "source": [
        "import matplotlib.pyplot as plt\n",
        "\n",
        "plt.imshow(x_test[10])    # value to be predict"
      ],
      "execution_count": 0,
      "outputs": [
        {
          "output_type": "execute_result",
          "data": {
            "text/plain": [
              "<matplotlib.image.AxesImage at 0x7fb0be7c99e8>"
            ]
          },
          "metadata": {
            "tags": []
          },
          "execution_count": 2
        },
        {
          "output_type": "display_data",
          "data": {
            "image/png": "[encoded data removed]",
            "text/plain": [
              "<Figure size 576x396 with 1 Axes>"
            ]
          },
          "metadata": {
            "tags": []
          }
        }
      ]
    },
    {
      "metadata": {
        "id": "X9uy2X9onN5t",
        "colab_type": "code",
        "outputId": "5e1b291d-6391-48a7-b7ca-0f5c679f5b15",
        "colab": {
          "base_uri": "https://localhost:8080/",
          "height": 51
        }
      },
      "cell_type": "code",
      "source": [
        "val_loss, val_acc = model.evaluate(x_test,y_test)\n",
        "print(val_loss, val_acc)"
      ],
      "execution_count": 0,
      "outputs": [
        {
          "output_type": "stream",
          "text": [
            "10000/10000 [==============================] - 1s 84us/sample - loss: 0.1772 - acc: 0.9660\n",
            "0.1771602081820718 0.966\n"
          ],
          "name": "stdout"
        }
      ]
    },
    {
      "metadata": {
        "id": "u88XnenzjEN9",
        "colab_type": "code",
        "colab": {}
      },
      "cell_type": "code",
      "source": [
        "model.save('epic_num_reader.model')"
      ],
      "execution_count": 0,
      "outputs": []
    },
    {
      "metadata": {
        "id": "2LARQKpoxDkn",
        "colab_type": "code",
        "outputId": "a2244111-917a-4f0d-cb63-909d6d8d209c",
        "colab": {
          "base_uri": "https://localhost:8080/",
          "height": 54
        }
      },
      "cell_type": "code",
      "source": [
        "new_model = tf.keras.models.load_model('epic_num_reader.model')"
      ],
      "execution_count": 0,
      "outputs": [
        {
          "output_type": "stream",
          "text": [
            "WARNING:tensorflow:Sequential models without an `input_shape` passed to the first layer cannot reload their optimizer state. As a result, your model isstarting with a freshly initialized optimizer.\n"
          ],
          "name": "stdout"
        }
      ]
    },
    {
      "metadata": {
        "id": "zaSX3M9Exwlh",
        "colab_type": "code",
        "colab": {}
      },
      "cell_type": "code",
      "source": [
        "predctions = new_model.predict(x_test)  # presicting value"
      ],
      "execution_count": 0,
      "outputs": []
    },
    {
      "metadata": {
        "id": "_MoZBHnIx8R5",
        "colab_type": "code",
        "outputId": "98a57072-99f3-4e01-abd5-8ae004d59cc7",
        "colab": {
          "base_uri": "https://localhost:8080/",
          "height": 34
        }
      },
      "cell_type": "code",
      "source": [
        "import numpy as np\n",
        "\n",
        "print(np.argmax(predctions[10]))"
      ],
      "execution_count": 0,
      "outputs": [
        {
          "output_type": "stream",
          "text": [
            "0\n"
          ],
          "name": "stdout"
        }
      ]
    },
    {
      "metadata": {
        "id": "w-4pVmmPCWli",
        "colab_type": "code",
        "colab": {}
      },
      "cell_type": "code",
      "source": [
        ""
      ],
      "execution_count": 0,
      "outputs": []
    }
  ]
}